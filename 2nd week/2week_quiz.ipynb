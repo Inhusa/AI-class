{
 "cells": [
  {
   "cell_type": "markdown",
   "id": "a2a6eaac-b750-4693-bc28-d83688179751",
   "metadata": {},
   "source": [
    "인공지능개론(2주차 퀴즈즈)"
   ]
  },
  {
   "cell_type": "markdown",
   "id": "90af79e1-ed40-4991-b579-1cadf006a9ce",
   "metadata": {},
   "source": [
    "Download sk-learn"
   ]
  },
  {
   "cell_type": "code",
   "execution_count": 1,
   "id": "b58640f7-bfaf-4ae0-b36e-095ca8cd7154",
   "metadata": {},
   "outputs": [
    {
     "name": "stdout",
     "output_type": "stream",
     "text": [
      "Requirement already satisfied: scikit-learn in c:\\users\\outla\\anaconda3\\lib\\site-packages (1.5.1)\n",
      "Requirement already satisfied: numpy>=1.19.5 in c:\\users\\outla\\anaconda3\\lib\\site-packages (from scikit-learn) (1.26.4)\n",
      "Requirement already satisfied: scipy>=1.6.0 in c:\\users\\outla\\anaconda3\\lib\\site-packages (from scikit-learn) (1.13.1)\n",
      "Requirement already satisfied: joblib>=1.2.0 in c:\\users\\outla\\anaconda3\\lib\\site-packages (from scikit-learn) (1.4.2)\n",
      "Requirement already satisfied: threadpoolctl>=3.1.0 in c:\\users\\outla\\anaconda3\\lib\\site-packages (from scikit-learn) (3.5.0)\n",
      "Note: you may need to restart the kernel to use updated packages.\n"
     ]
    }
   ],
   "source": [
    "pip install scikit-learn\n"
   ]
  },
  {
   "cell_type": "markdown",
   "id": "19d8fde1-c81a-40e1-9d81-52ca5a227d16",
   "metadata": {},
   "source": [
    "Import Libraries"
   ]
  },
  {
   "cell_type": "code",
   "execution_count": 2,
   "id": "5926b0d0-d932-468a-9d91-ac81b262545c",
   "metadata": {},
   "outputs": [],
   "source": [
    "import pandas as pd\n",
    "from sklearn.model_selection import train_test_split\n",
    "from sklearn.tree import DecisionTreeClassifier\n",
    "from sklearn.ensemble import RandomForestClassifier\n",
    "from sklearn.svm import SVC\n",
    "from sklearn.linear_model import LogisticRegression\n",
    "from sklearn.metrics import accuracy_score, classification_report"
   ]
  },
  {
   "cell_type": "markdown",
   "id": "2575742d-9016-4d4c-af5b-79d9d87c1f8b",
   "metadata": {},
   "source": [
    "Data Load"
   ]
  },
  {
   "cell_type": "code",
   "execution_count": 3,
   "id": "3daa6b2e-1afc-4ffd-ba09-f25e9d77f6e5",
   "metadata": {},
   "outputs": [
    {
     "name": "stderr",
     "output_type": "stream",
     "text": [
      "<>:1: SyntaxWarning: invalid escape sequence '\\T'\n",
      "<>:1: SyntaxWarning: invalid escape sequence '\\T'\n",
      "C:\\Users\\outla\\AppData\\Local\\Temp\\ipykernel_10952\\3217643490.py:1: SyntaxWarning: invalid escape sequence '\\T'\n",
      "  file_path = \"C:\\Temp\\mobile.csv\"\n"
     ]
    }
   ],
   "source": [
    "file_path = \"C:\\Temp\\mobile.csv\"\n",
    "df = pd.read_csv(file_path)"
   ]
  },
  {
   "cell_type": "markdown",
   "id": "6a363ba5-3293-4205-8824-af26d02294fa",
   "metadata": {},
   "source": [
    "데이터 타겟(결과) 설정"
   ]
  },
  {
   "cell_type": "code",
   "execution_count": 4,
   "id": "5464a4de-f5be-4aa3-9b13-5a5c2b98d393",
   "metadata": {},
   "outputs": [],
   "source": [
    "X = df.drop(\"price_range\", axis=1)  \n",
    "y = df[\"price_range\"]      "
   ]
  },
  {
   "cell_type": "markdown",
   "id": "54a288b1-073a-48fd-b93a-573453171963",
   "metadata": {},
   "source": [
    "데이터 분할(훈련을 80%)"
   ]
  },
  {
   "cell_type": "code",
   "execution_count": 5,
   "id": "3d309ad3-c732-43de-ab81-a112082fbdb5",
   "metadata": {},
   "outputs": [],
   "source": [
    "X_train, X_test, y_train, y_test = train_test_split(X, y, test_size=0.2, random_state=42)"
   ]
  },
  {
   "cell_type": "markdown",
   "id": "82538807-85ec-40d0-9886-f20b0a6c274e",
   "metadata": {},
   "source": [
    "DecisionTree"
   ]
  },
  {
   "cell_type": "code",
   "execution_count": 6,
   "id": "caf94c87-46df-402a-a2fa-f758fda22580",
   "metadata": {},
   "outputs": [
    {
     "name": "stdout",
     "output_type": "stream",
     "text": [
      "==================== Decision Tree ========================\n",
      "Accuracy: 0.84\n",
      "              precision    recall  f1-score   support\n",
      "\n",
      "           0       0.91      0.89      0.90       105\n",
      "           1       0.75      0.84      0.79        91\n",
      "           2       0.80      0.72      0.76        92\n",
      "           3       0.89      0.91      0.90       112\n",
      "\n",
      "    accuracy                           0.84       400\n",
      "   macro avg       0.84      0.84      0.84       400\n",
      "weighted avg       0.84      0.84      0.84       400\n",
      " \n",
      "\n",
      "\n"
     ]
    }
   ],
   "source": [
    "dt_model = DecisionTreeClassifier()\n",
    "dt_model.fit(X_train, y_train)\n",
    "dt_pred = dt_model.predict(X_test)\n",
    "dt_acc = accuracy_score(y_test, dt_pred)\n",
    "print(\"==================== Decision Tree ========================\")\n",
    "print(f\"Accuracy: {accuracy_score(y_test, dt_pred):.2f}\")\n",
    "print(classification_report(y_test, dt_pred),\"\\n\\n\")"
   ]
  },
  {
   "cell_type": "markdown",
   "id": "d60d8c78-9b1c-4da8-b2e3-130601e4e21c",
   "metadata": {},
   "source": [
    "RandomForest"
   ]
  },
  {
   "cell_type": "code",
   "execution_count": 7,
   "id": "4814bda2-cb34-4308-9edc-5b2a639f3f0e",
   "metadata": {},
   "outputs": [
    {
     "name": "stdout",
     "output_type": "stream",
     "text": [
      "==================== Random Forest ========================\n",
      "Accuracy: 0.89\n",
      "              precision    recall  f1-score   support\n",
      "\n",
      "           0       0.95      0.96      0.96       105\n",
      "           1       0.89      0.87      0.88        91\n",
      "           2       0.78      0.87      0.82        92\n",
      "           3       0.94      0.87      0.90       112\n",
      "\n",
      "    accuracy                           0.89       400\n",
      "   macro avg       0.89      0.89      0.89       400\n",
      "weighted avg       0.90      0.89      0.89       400\n",
      " \n",
      "\n",
      "\n"
     ]
    }
   ],
   "source": [
    "rf_model = RandomForestClassifier(n_estimators=100, random_state=42)\n",
    "rf_model.fit(X_train, y_train)\n",
    "rf_pred = rf_model.predict(X_test)\n",
    "rf_acc = accuracy_score(y_test, rf_pred)\n",
    "print(\"==================== Random Forest ========================\")\n",
    "print(f\"Accuracy: {accuracy_score(y_test, rf_pred):.2f}\")\n",
    "print(classification_report(y_test, rf_pred),\"\\n\\n\")\n"
   ]
  },
  {
   "cell_type": "markdown",
   "id": "f9cff1a9-adc7-412b-9906-6295d6d908e7",
   "metadata": {},
   "source": [
    "SVM"
   ]
  },
  {
   "cell_type": "code",
   "execution_count": 8,
   "id": "23673585-966a-4b00-acd1-bd96c9c7389b",
   "metadata": {},
   "outputs": [
    {
     "name": "stdout",
     "output_type": "stream",
     "text": [
      "================ Support Vector Machine ====================\n",
      "Accuracy: 0.96\n",
      "              precision    recall  f1-score   support\n",
      "\n",
      "           0       0.99      0.98      0.99       105\n",
      "           1       0.95      0.99      0.97        91\n",
      "           2       0.94      0.95      0.94        92\n",
      "           3       0.98      0.95      0.96       112\n",
      "\n",
      "    accuracy                           0.96       400\n",
      "   macro avg       0.96      0.97      0.96       400\n",
      "weighted avg       0.97      0.96      0.97       400\n",
      " \n",
      "\n",
      "\n"
     ]
    }
   ],
   "source": [
    "svm_model = SVC()\n",
    "svm_model.fit(X_train, y_train)\n",
    "svm_pred = svm_model.predict(X_test)\n",
    "svm_acc = accuracy_score(y_test, svm_pred)\n",
    "print(\"================ Support Vector Machine ====================\")\n",
    "print(f\"Accuracy: {accuracy_score(y_test, svm_pred):.2f}\")\n",
    "print(classification_report(y_test, svm_pred),\"\\n\\n\")\n"
   ]
  },
  {
   "cell_type": "markdown",
   "id": "24889733-d4fb-44ad-939b-ef571463338e",
   "metadata": {},
   "source": [
    "Logistic Regression"
   ]
  },
  {
   "cell_type": "code",
   "execution_count": 9,
   "id": "7140598a-1aab-4bc4-89f2-4461980b2280",
   "metadata": {},
   "outputs": [
    {
     "name": "stdout",
     "output_type": "stream",
     "text": [
      "================= Logistic Regression ====================\n",
      "Accuracy: 0.66\n",
      "              precision    recall  f1-score   support\n",
      "\n",
      "           0       0.84      0.77      0.81       105\n",
      "           1       0.51      0.55      0.53        91\n",
      "           2       0.53      0.48      0.50        92\n",
      "           3       0.73      0.79      0.76       112\n",
      "\n",
      "    accuracy                           0.66       400\n",
      "   macro avg       0.65      0.65      0.65       400\n",
      "weighted avg       0.66      0.66      0.66       400\n",
      "\n"
     ]
    },
    {
     "name": "stderr",
     "output_type": "stream",
     "text": [
      "c:\\Users\\outla\\anaconda3\\Lib\\site-packages\\sklearn\\linear_model\\_logistic.py:469: ConvergenceWarning: lbfgs failed to converge (status=1):\n",
      "STOP: TOTAL NO. of ITERATIONS REACHED LIMIT.\n",
      "\n",
      "Increase the number of iterations (max_iter) or scale the data as shown in:\n",
      "    https://scikit-learn.org/stable/modules/preprocessing.html\n",
      "Please also refer to the documentation for alternative solver options:\n",
      "    https://scikit-learn.org/stable/modules/linear_model.html#logistic-regression\n",
      "  n_iter_i = _check_optimize_result(\n"
     ]
    }
   ],
   "source": [
    "lr_model = LogisticRegression(max_iter=200)\n",
    "lr_model.fit(X_train, y_train)\n",
    "lr_pred = lr_model.predict(X_test)\n",
    "lr_acc = accuracy_score(y_test, lr_pred)\n",
    "print(\"================= Logistic Regression ====================\")\n",
    "print(f\"Accuracy: {accuracy_score(y_test, lr_pred):.2f}\")\n",
    "print(classification_report(y_test, lr_pred))\n"
   ]
  }
 ],
 "metadata": {
  "kernelspec": {
   "display_name": "base",
   "language": "python",
   "name": "python3"
  },
  "language_info": {
   "codemirror_mode": {
    "name": "ipython",
    "version": 3
   },
   "file_extension": ".py",
   "mimetype": "text/x-python",
   "name": "python",
   "nbconvert_exporter": "python",
   "pygments_lexer": "ipython3",
   "version": "3.12.7"
  }
 },
 "nbformat": 4,
 "nbformat_minor": 5
}
