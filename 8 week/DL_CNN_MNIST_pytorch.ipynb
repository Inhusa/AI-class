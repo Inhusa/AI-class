{
 "cells": [
  {
   "cell_type": "code",
   "execution_count": 30,
   "id": "42dd5ae3",
   "metadata": {},
   "outputs": [],
   "source": [
    "import pandas as pd\n",
    "import matplotlib.pyplot as plt\n",
    "import seaborn as sns"
   ]
  },
  {
   "cell_type": "code",
   "execution_count": 31,
   "id": "448cf2dd",
   "metadata": {},
   "outputs": [
    {
     "name": "stdout",
     "output_type": "stream",
     "text": [
      "[[ 0.  0.  5. ...  0.  0.  0.]\n",
      " [ 0.  0.  0. ... 10.  0.  0.]\n",
      " [ 0.  0.  0. ... 16.  9.  0.]\n",
      " ...\n",
      " [ 0.  0.  1. ...  6.  0.  0.]\n",
      " [ 0.  0.  2. ... 12.  0.  0.]\n",
      " [ 0.  0. 10. ... 12.  1.  0.]] [0 1 2 ... 8 9 8]\n"
     ]
    }
   ],
   "source": [
    "from sklearn import datasets\n",
    "\n",
    "digit = datasets.load_digits()\n",
    "print(digit.data,digit.target)"
   ]
  },
  {
   "cell_type": "code",
   "execution_count": 32,
   "id": "39066d08",
   "metadata": {},
   "outputs": [
    {
     "data": {
      "text/plain": [
       "(1797, 64)"
      ]
     },
     "execution_count": 32,
     "metadata": {},
     "output_type": "execute_result"
    }
   ],
   "source": [
    "digit.data.shape"
   ]
  },
  {
   "cell_type": "code",
   "execution_count": 33,
   "id": "049bb705",
   "metadata": {},
   "outputs": [
    {
     "data": {
      "text/plain": [
       "1797"
      ]
     },
     "execution_count": 33,
     "metadata": {},
     "output_type": "execute_result"
    }
   ],
   "source": [
    "len(digit.data)"
   ]
  },
  {
   "cell_type": "markdown",
   "id": "3a77d6ef",
   "metadata": {},
   "source": [
    "#### model configuration  \n",
    "convolutional layer 는 총 2개로 설정  \n",
    "pooling 방식은 maxpooling  \n",
    "마지막 dense layer는 view method를 사용하여 데이터 변환후 linear 유닛으로 변경  \n"
   ]
  },
  {
   "cell_type": "markdown",
   "id": "adb8c96b",
   "metadata": {},
   "source": [
    "- last layer에 softmax 사용안하는 이유  \n",
    "   :nn.CrossEntropyLoss()는 내부적으로 LogSoftmax + NLLLoss를 결합해서 계산   \n",
    "   마지막 레이어에 softmax를 추가하면, softmax가 두 번 적용되어 학습이 제대로 되지 않음  "
   ]
  },
  {
   "cell_type": "code",
   "execution_count": 34,
   "id": "e19da03c",
   "metadata": {},
   "outputs": [
    {
     "name": "stdout",
     "output_type": "stream",
     "text": [
      "SimpleCNN(\n",
      "  (conv1): Conv2d(1, 16, kernel_size=(3, 3), stride=(1, 1), padding=(1, 1))\n",
      "  (conv2): Conv2d(16, 32, kernel_size=(3, 3), stride=(1, 1), padding=(1, 1))\n",
      "  (pool): MaxPool2d(kernel_size=2, stride=2, padding=0, dilation=1, ceil_mode=False)\n",
      "  (fc1): Linear(in_features=128, out_features=64, bias=True)\n",
      "  (fc2): Linear(in_features=64, out_features=10, bias=True)\n",
      ")\n"
     ]
    }
   ],
   "source": [
    "import torch\n",
    "import torch.nn as nn\n",
    "import torch.nn.functional as F\n",
    "\n",
    "class SimpleCNN(nn.Module):\n",
    "    def __init__(self):\n",
    "        super(SimpleCNN, self).__init__()\n",
    "        self.conv1 = nn.Conv2d(1, 16, kernel_size=3, padding=1)\n",
    "        self.conv2 = nn.Conv2d(16, 32, kernel_size=3, padding=1)\n",
    "        self.pool = nn.MaxPool2d(2, 2)\n",
    "        self.fc1 = nn.Linear(32 * 2 * 2, 64)\n",
    "        self.fc2 = nn.Linear(64, 10)  # digits 데이터셋은 10개 클래스\n",
    "\n",
    "    def forward(self, x):\n",
    "        x = self.pool(F.relu(self.conv1(x)))\n",
    "        x = self.pool(F.relu(self.conv2(x)))\n",
    "        x = x.view(-1, 32 * 2 * 2)\n",
    "        x = F.relu(self.fc1(x))\n",
    "        x = self.fc2(x)\n",
    "        return x\n",
    "\n",
    "# 모델 생성 예시\n",
    "model = SimpleCNN()\n",
    "print(model)"
   ]
  },
  {
   "cell_type": "markdown",
   "id": "da299d04",
   "metadata": {},
   "source": [
    "#### 데이터 분할  "
   ]
  },
  {
   "cell_type": "code",
   "execution_count": 35,
   "id": "2e409665",
   "metadata": {},
   "outputs": [],
   "source": [
    "from sklearn.model_selection import train_test_split\n",
    "X_train, X_test, y_train, y_test = train_test_split(digit.data, digit.target, test_size=0.2, random_state=0)"
   ]
  },
  {
   "cell_type": "code",
   "execution_count": 36,
   "id": "6c77f9ef",
   "metadata": {},
   "outputs": [],
   "source": [
    "X_train = torch.tensor(X_train, dtype=torch.int64)\n",
    "y_train = torch.tensor(y_train, dtype=torch.int64)\n",
    "X_test = torch.tensor(X_test, dtype=torch.int64)\n",
    "y_test = torch.tensor(y_test, dtype=torch.int64)"
   ]
  },
  {
   "cell_type": "code",
   "execution_count": 37,
   "id": "8954a7b4",
   "metadata": {},
   "outputs": [],
   "source": [
    "from torch.utils.data import Dataset, DataLoader, TensorDataset\n",
    "train_dataset = TensorDataset(X_train, y_train)\n",
    "train_dataloader = DataLoader(train_dataset, batch_size=32, shuffle=True)"
   ]
  },
  {
   "cell_type": "markdown",
   "id": "3cb35220",
   "metadata": {},
   "source": [
    "#### loss funtion 및 옵티마이저 설정  \n",
    "- 다중분류가 목적이므로 crossentropyloss  "
   ]
  },
  {
   "cell_type": "code",
   "execution_count": 38,
   "id": "5de9ffb4",
   "metadata": {},
   "outputs": [],
   "source": [
    "import torch.optim as optim\n",
    "criterion = nn.CrossEntropyLoss()\n",
    "optimizer = optim.Adam(model.parameters(), lr=0.001)"
   ]
  },
  {
   "cell_type": "code",
   "execution_count": 39,
   "id": "49889871",
   "metadata": {},
   "outputs": [
    {
     "name": "stdout",
     "output_type": "stream",
     "text": [
      "Test Accuracy: 0.8250\n",
      "Epoch 1/50, Loss: 1.7527, Accuracy: 0.82%\n",
      "Test Accuracy: 0.9028\n",
      "Epoch 2/50, Loss: 0.5459, Accuracy: 0.90%\n",
      "Test Accuracy: 0.9667\n",
      "Epoch 3/50, Loss: 0.2129, Accuracy: 0.97%\n",
      "Test Accuracy: 0.9417\n",
      "Epoch 4/50, Loss: 0.1466, Accuracy: 0.94%\n",
      "Test Accuracy: 0.9556\n",
      "Epoch 5/50, Loss: 0.1113, Accuracy: 0.96%\n",
      "Test Accuracy: 0.9778\n",
      "Epoch 6/50, Loss: 0.0974, Accuracy: 0.98%\n",
      "Test Accuracy: 0.9750\n",
      "Epoch 7/50, Loss: 0.0588, Accuracy: 0.97%\n",
      "Test Accuracy: 0.9833\n",
      "Epoch 8/50, Loss: 0.0422, Accuracy: 0.98%\n",
      "Test Accuracy: 0.9778\n",
      "Epoch 9/50, Loss: 0.0401, Accuracy: 0.98%\n",
      "Test Accuracy: 0.9833\n",
      "Epoch 10/50, Loss: 0.0291, Accuracy: 0.98%\n",
      "Test Accuracy: 0.9750\n",
      "Epoch 11/50, Loss: 0.0269, Accuracy: 0.97%\n",
      "Test Accuracy: 0.9889\n",
      "Epoch 12/50, Loss: 0.0260, Accuracy: 0.99%\n",
      "Test Accuracy: 0.9889\n",
      "Epoch 13/50, Loss: 0.0172, Accuracy: 0.99%\n",
      "Test Accuracy: 0.9806\n",
      "Epoch 14/50, Loss: 0.0112, Accuracy: 0.98%\n",
      "Test Accuracy: 0.9833\n",
      "Epoch 15/50, Loss: 0.0097, Accuracy: 0.98%\n",
      "Test Accuracy: 0.9833\n",
      "Epoch 16/50, Loss: 0.0083, Accuracy: 0.98%\n",
      "Test Accuracy: 0.9806\n",
      "Epoch 17/50, Loss: 0.0065, Accuracy: 0.98%\n",
      "Test Accuracy: 0.9917\n",
      "Epoch 18/50, Loss: 0.0076, Accuracy: 0.99%\n",
      "Test Accuracy: 0.9917\n",
      "Epoch 19/50, Loss: 0.0089, Accuracy: 0.99%\n",
      "Test Accuracy: 0.9861\n",
      "Epoch 20/50, Loss: 0.0045, Accuracy: 0.99%\n",
      "Test Accuracy: 0.9833\n",
      "Epoch 21/50, Loss: 0.0035, Accuracy: 0.98%\n",
      "Test Accuracy: 0.9889\n",
      "Epoch 22/50, Loss: 0.0047, Accuracy: 0.99%\n",
      "Test Accuracy: 0.9917\n",
      "Epoch 23/50, Loss: 0.0028, Accuracy: 0.99%\n",
      "Test Accuracy: 0.9889\n",
      "Epoch 24/50, Loss: 0.0024, Accuracy: 0.99%\n",
      "Test Accuracy: 0.9861\n",
      "Epoch 25/50, Loss: 0.0021, Accuracy: 0.99%\n",
      "Test Accuracy: 0.9861\n",
      "Epoch 26/50, Loss: 0.0019, Accuracy: 0.99%\n",
      "Test Accuracy: 0.9889\n",
      "Epoch 27/50, Loss: 0.0019, Accuracy: 0.99%\n",
      "Test Accuracy: 0.9861\n",
      "Epoch 28/50, Loss: 0.0019, Accuracy: 0.99%\n",
      "Test Accuracy: 0.9833\n",
      "Epoch 29/50, Loss: 0.0015, Accuracy: 0.98%\n",
      "Test Accuracy: 0.9917\n",
      "Epoch 30/50, Loss: 0.0015, Accuracy: 0.99%\n",
      "Test Accuracy: 0.9861\n",
      "Epoch 31/50, Loss: 0.0013, Accuracy: 0.99%\n",
      "Test Accuracy: 0.9917\n",
      "Epoch 32/50, Loss: 0.0011, Accuracy: 0.99%\n",
      "Test Accuracy: 0.9889\n",
      "Epoch 33/50, Loss: 0.0012, Accuracy: 0.99%\n",
      "Test Accuracy: 0.9917\n",
      "Epoch 34/50, Loss: 0.0011, Accuracy: 0.99%\n",
      "Test Accuracy: 0.9917\n",
      "Epoch 35/50, Loss: 0.0010, Accuracy: 0.99%\n",
      "Test Accuracy: 0.9889\n",
      "Epoch 36/50, Loss: 0.0009, Accuracy: 0.99%\n",
      "Test Accuracy: 0.9861\n",
      "Epoch 37/50, Loss: 0.0008, Accuracy: 0.99%\n",
      "Test Accuracy: 0.9861\n",
      "Epoch 38/50, Loss: 0.0008, Accuracy: 0.99%\n",
      "Test Accuracy: 0.9861\n",
      "Epoch 39/50, Loss: 0.0007, Accuracy: 0.99%\n",
      "Test Accuracy: 0.9889\n",
      "Epoch 40/50, Loss: 0.0007, Accuracy: 0.99%\n",
      "Test Accuracy: 0.9889\n",
      "Epoch 41/50, Loss: 0.0007, Accuracy: 0.99%\n",
      "Test Accuracy: 0.9889\n",
      "Epoch 42/50, Loss: 0.0006, Accuracy: 0.99%\n",
      "Test Accuracy: 0.9861\n",
      "Epoch 43/50, Loss: 0.0006, Accuracy: 0.99%\n",
      "Test Accuracy: 0.9917\n",
      "Epoch 44/50, Loss: 0.0006, Accuracy: 0.99%\n",
      "Test Accuracy: 0.9889\n",
      "Epoch 45/50, Loss: 0.0005, Accuracy: 0.99%\n",
      "Test Accuracy: 0.9889\n",
      "Epoch 46/50, Loss: 0.0005, Accuracy: 0.99%\n",
      "Test Accuracy: 0.9889\n",
      "Epoch 47/50, Loss: 0.0005, Accuracy: 0.99%\n",
      "Test Accuracy: 0.9889\n",
      "Epoch 48/50, Loss: 0.0005, Accuracy: 0.99%\n",
      "Test Accuracy: 0.9917\n",
      "Epoch 49/50, Loss: 0.0004, Accuracy: 0.99%\n",
      "Test Accuracy: 0.9917\n",
      "Epoch 50/50, Loss: 0.0004, Accuracy: 0.99%\n"
     ]
    }
   ],
   "source": [
    "train_losses = []\n",
    "test_accuracies = []\n",
    "num_epochs = 50\n",
    "\n",
    "for epoch in range(num_epochs):\n",
    "    model.train()\n",
    "    running_loss = 0.0\n",
    "    for batch_x, batch_y in train_dataloader:\n",
    "        # 입력 데이터 shape 변환: (batch, 64) -> (batch, 1, 8, 8)\n",
    "        batch_x = batch_x.float().view(-1, 1, 8, 8)\n",
    "        outputs = model(batch_x)\n",
    "        loss = criterion(outputs, batch_y)\n",
    "        \n",
    "        optimizer.zero_grad()\n",
    "        loss.backward()\n",
    "        optimizer.step()\n",
    "        running_loss += loss.item()\n",
    "    train_losses.append(running_loss / len(train_dataloader))\n",
    "    # 테스트 정확도 계산\n",
    "    model.eval()\n",
    "    with torch.no_grad():\n",
    "        test_x = X_test.float().view(-1, 1, 8, 8)\n",
    "        test_outputs = model(test_x)\n",
    "        _, predicted = torch.max(test_outputs.data, 1)\n",
    "        correct = (predicted == y_test).sum().item()\n",
    "        accuracy = correct / len(y_test)\n",
    "        test_accuracies.append(accuracy)\n",
    "        print(f\"Test Accuracy: {accuracy:.4f}\")\n",
    "    print(f\"Epoch {epoch + 1}/{num_epochs}, Loss: {train_losses[-1]:.4f}, Accuracy: {accuracy:.2f}%\")\n",
    "\n"
   ]
  },
  {
   "cell_type": "markdown",
   "id": "a304577f",
   "metadata": {},
   "source": [
    "#### 모델 평가 지표  "
   ]
  },
  {
   "cell_type": "code",
   "execution_count": 40,
   "id": "c7b26a59",
   "metadata": {},
   "outputs": [
    {
     "name": "stdout",
     "output_type": "stream",
     "text": [
      "Confusion Matrix:\n",
      "[[151   0   0   0   0   0   0   0   0   0]\n",
      " [  0 147   0   0   0   0   0   0   0   0]\n",
      " [  0   0 141   0   0   0   0   0   0   0]\n",
      " [  0   0   0 154   0   0   0   0   0   0]\n",
      " [  0   0   0   0 151   0   0   0   0   0]\n",
      " [  0   0   0   0   0 142   0   0   0   0]\n",
      " [  0   0   0   0   0   0 137   0   0   0]\n",
      " [  0   0   0   0   0   0   0 140   0   0]\n",
      " [  0   0   0   0   0   0   0   0 135   0]\n",
      " [  0   0   0   0   0   0   0   0   0 139]]\n",
      "F1 Score: 1.00\n",
      "Precision: 1.00\n",
      "Recall: 1.00\n",
      "Specificity: 1.00\n"
     ]
    }
   ],
   "source": [
    "import torch\n",
    "import numpy as np\n",
    "from sklearn.metrics import confusion_matrix, f1_score, precision_score, recall_score\n",
    "\n",
    "# 모델 평가 모드로 변경\n",
    "model.eval()\n",
    "\n",
    "# GPU 사용 여부 확인\n",
    "device = torch.device(\"cuda\" if torch.cuda.is_available() else \"cpu\")\n",
    "model.to(device)  # 모델을 GPU로 이동\n",
    "\n",
    "# 결과 저장\n",
    "all_labels = []\n",
    "all_predictions = []\n",
    "\n",
    "# 평가 데이터 처리\n",
    "with torch.no_grad():\n",
    "    for batch_x, batch_y in train_dataloader:\n",
    "        # 입력 데이터 shape 변환: (batch, 64) -> (batch, 1, 8, 8)\n",
    "        batch_x = batch_x.float().view(-1, 1, 8, 8).to(device)  # GPU로 이동\n",
    "        outputs = model(batch_x)\n",
    "        _, predicted = torch.max(outputs.data, 1)  # 수정: torch.max의 반환값 언패킹\n",
    "        \n",
    "        all_labels.extend(batch_y.cpu().numpy())  # CPU로 이동 후 numpy로 변환\n",
    "        all_predictions.extend(predicted.cpu().numpy())  # CPU로 이동 후 numpy로 변환\n",
    "\n",
    "all_labels = np.array(all_labels)\n",
    "all_predictions = np.array(all_predictions)\n",
    "\n",
    "# Calculate metrics\n",
    "conf_matrix = confusion_matrix(all_labels, all_predictions)\n",
    "f1 = f1_score(all_labels, all_predictions, average='weighted')\n",
    "precision = precision_score(all_labels, all_predictions, average='weighted')\n",
    "recall = recall_score(all_labels, all_predictions, average='weighted')\n",
    "\n",
    "# Calculate specificity for each class\n",
    "specificity = []\n",
    "for i in range(conf_matrix.shape[0]):\n",
    "    tn = conf_matrix.sum() - (conf_matrix[i, :].sum() + conf_matrix[:, i].sum() - conf_matrix[i, i])\n",
    "    fp = conf_matrix[:, i].sum() - conf_matrix[i, i]\n",
    "    specificity.append(tn / (tn + fp))\n",
    "\n",
    "# 결과 출력\n",
    "print(f'Confusion Matrix:\\n{conf_matrix}')\n",
    "print(f'F1 Score: {f1:.2f}')\n",
    "print(f'Precision: {precision:.2f}')\n",
    "print(f'Recall: {recall:.2f}')\n",
    "print(f'Specificity: {np.mean(specificity):.2f}')"
   ]
  },
  {
   "cell_type": "markdown",
   "id": "7448cb8c",
   "metadata": {},
   "source": [
    "#### 시각화   "
   ]
  },
  {
   "cell_type": "code",
   "execution_count": 41,
   "id": "33d87eac",
   "metadata": {},
   "outputs": [
    {
     "data": {
      "image/png": "[encoded data removed]",
      "text/plain": [
       "<Figure size 1200x500 with 2 Axes>"
      ]
     },
     "metadata": {},
     "output_type": "display_data"
    }
   ],
   "source": [
    "# Plot the loss and accuracy\n",
    "plt.figure(figsize=(12, 5))\n",
    "\n",
    "# Plot loss\n",
    "plt.subplot(1, 2, 1)\n",
    "plt.plot(train_losses, label='Training Loss')\n",
    "plt.xlabel('Epoch')\n",
    "plt.ylabel('Loss')\n",
    "plt.title('Training Loss Over Epochs')\n",
    "plt.legend()\n",
    "\n",
    "# Plot accuracy\n",
    "plt.subplot(1, 2, 2)\n",
    "plt.plot(test_accuracies, label='Test Accuracy')\n",
    "plt.xlabel('Epoch')\n",
    "plt.ylabel('Accuracy (%)')\n",
    "plt.title('Test Accuracy Over Epochs')\n",
    "plt.legend()\n",
    "\n",
    "plt.show()"
   ]
  }
 ],
 "metadata": {
  "kernelspec": {
   "display_name": "base",
   "language": "python",
   "name": "python3"
  },
  "language_info": {
   "codemirror_mode": {
    "name": "ipython",
    "version": 3
   },
   "file_extension": ".py",
   "mimetype": "text/x-python",
   "name": "python",
   "nbconvert_exporter": "python",
   "pygments_lexer": "ipython3",
   "version": "3.12.7"
  }
 },
 "nbformat": 4,
 "nbformat_minor": 5
}
