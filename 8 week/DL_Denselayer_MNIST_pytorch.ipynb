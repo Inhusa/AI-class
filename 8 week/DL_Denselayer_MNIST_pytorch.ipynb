{
 "cells": [
  {
   "cell_type": "code",
   "execution_count": 1,
   "id": "112fe15c",
   "metadata": {},
   "outputs": [
    {
     "name": "stdout",
     "output_type": "stream",
     "text": [
      "[[ 0.  0.  5. ...  0.  0.  0.]\n",
      " [ 0.  0.  0. ... 10.  0.  0.]\n",
      " [ 0.  0.  0. ... 16.  9.  0.]\n",
      " ...\n",
      " [ 0.  0.  1. ...  6.  0.  0.]\n",
      " [ 0.  0.  2. ... 12.  0.  0.]\n",
      " [ 0.  0. 10. ... 12.  1.  0.]] [0 1 2 ... 8 9 8]\n"
     ]
    }
   ],
   "source": [
    "import pandas as pd\n",
    "import matplotlib.pyplot as plt\n",
    "import seaborn as sns\n",
    "from sklearn import datasets\n",
    "\n",
    "digit = datasets.load_digits()\n",
    "print(digit.data,digit.target)"
   ]
  },
  {
   "cell_type": "code",
   "execution_count": 2,
   "id": "e497aeab",
   "metadata": {},
   "outputs": [
    {
     "data": {
      "text/plain": [
       "(1797, 64)"
      ]
     },
     "execution_count": 2,
     "metadata": {},
     "output_type": "execute_result"
    }
   ],
   "source": [
    "digit.data.shape"
   ]
  },
  {
   "cell_type": "code",
   "execution_count": 3,
   "id": "1ebce2ca",
   "metadata": {},
   "outputs": [],
   "source": [
    "from sklearn.model_selection import train_test_split\n",
    "X_train, X_test, y_train, y_test = train_test_split(digit.data, digit.target, test_size=0.3, random_state=42)"
   ]
  },
  {
   "cell_type": "code",
   "execution_count": 5,
   "id": "cdfce071",
   "metadata": {},
   "outputs": [
    {
     "data": {
      "text/plain": [
       "torch.Size([540])"
      ]
     },
     "execution_count": 5,
     "metadata": {},
     "output_type": "execute_result"
    }
   ],
   "source": [
    "import torch\n",
    "import torch.nn as nn\n",
    "from torch.utils.data import TensorDataset, DataLoader\n",
    "X_train_tensor = torch.tensor(X_train, dtype=torch.long)\n",
    "y_train_tensor = torch.tensor(y_train, dtype=torch.long)\n",
    "X_test_tensor = torch.tensor(X_test, dtype=torch.long)\n",
    "y_test_tensor = torch.tensor(y_test, dtype=torch.long)\n",
    "\n",
    "train_dataset = TensorDataset(X_train_tensor, y_train_tensor)\n",
    "test_dataset = TensorDataset(X_test_tensor, y_test_tensor)\n",
    "\n",
    "train_loader = DataLoader(train_dataset, batch_size=32, shuffle=True)\n",
    "test_loader = DataLoader(test_dataset, batch_size=32)\n",
    "y_test_tensor.shape"
   ]
  },
  {
   "cell_type": "code",
   "execution_count": 6,
   "id": "a5d7a857",
   "metadata": {},
   "outputs": [],
   "source": [
    "import torch.optim as optim\n",
    "class diabetesDense(nn.Module):\n",
    "    def __init__(self):\n",
    "        super(diabetesDense, self).__init__()\n",
    "        self.fc1 = nn.Linear(64, 16)\n",
    "        self.fc2 = nn.Linear(16, 32)\n",
    "        self.fc3 = nn.Linear(32, 32)\n",
    "        self.fc4 = nn.Linear(32, 10)\n",
    "\n",
    "    def forward(self, x):\n",
    "        x = torch.relu(self.fc1(x))\n",
    "        x = torch.relu(self.fc2(x))\n",
    "        x = torch.relu(self.fc3(x))\n",
    "        x = torch.sigmoid(self.fc4(x))\n",
    "        return x\n",
    "\n",
    "# Initialize the model, loss function, and optimizer\n",
    "device = torch.device(\"cuda\" if torch.cuda.is_available() else \"cpu\")\n",
    "model = diabetesDense().to(device)\n",
    "criterion = nn.CrossEntropyLoss()\n",
    "optimizer = optim.Adam(model.parameters(), lr=0.001)"
   ]
  },
  {
   "cell_type": "code",
   "execution_count": 9,
   "id": "83c02966",
   "metadata": {},
   "outputs": [
    {
     "name": "stdout",
     "output_type": "stream",
     "text": [
      "Test Accuracy: 0.6852\n",
      "Epoch 1/50, Loss: 2.0280, Accuracy: 0.69%\n",
      "Test Accuracy: 0.7481\n",
      "Epoch 2/50, Loss: 1.8292, Accuracy: 0.75%\n",
      "Test Accuracy: 0.8389\n",
      "Epoch 3/50, Loss: 1.7253, Accuracy: 0.84%\n",
      "Test Accuracy: 0.8685\n",
      "Epoch 4/50, Loss: 1.6578, Accuracy: 0.87%\n",
      "Test Accuracy: 0.8926\n",
      "Epoch 5/50, Loss: 1.6150, Accuracy: 0.89%\n",
      "Test Accuracy: 0.9074\n",
      "Epoch 6/50, Loss: 1.5895, Accuracy: 0.91%\n",
      "Test Accuracy: 0.9296\n",
      "Epoch 7/50, Loss: 1.5673, Accuracy: 0.93%\n",
      "Test Accuracy: 0.9426\n",
      "Epoch 8/50, Loss: 1.5504, Accuracy: 0.94%\n",
      "Test Accuracy: 0.9407\n",
      "Epoch 9/50, Loss: 1.5440, Accuracy: 0.94%\n",
      "Test Accuracy: 0.9389\n",
      "Epoch 10/50, Loss: 1.5352, Accuracy: 0.94%\n",
      "Test Accuracy: 0.9481\n",
      "Epoch 11/50, Loss: 1.5256, Accuracy: 0.95%\n",
      "Test Accuracy: 0.9481\n",
      "Epoch 12/50, Loss: 1.5180, Accuracy: 0.95%\n",
      "Test Accuracy: 0.9537\n",
      "Epoch 13/50, Loss: 1.5173, Accuracy: 0.95%\n",
      "Test Accuracy: 0.9519\n",
      "Epoch 14/50, Loss: 1.5133, Accuracy: 0.95%\n",
      "Test Accuracy: 0.9519\n",
      "Epoch 15/50, Loss: 1.5075, Accuracy: 0.95%\n",
      "Test Accuracy: 0.9481\n",
      "Epoch 16/50, Loss: 1.5039, Accuracy: 0.95%\n",
      "Test Accuracy: 0.9500\n",
      "Epoch 17/50, Loss: 1.5035, Accuracy: 0.95%\n",
      "Test Accuracy: 0.9611\n",
      "Epoch 18/50, Loss: 1.4987, Accuracy: 0.96%\n",
      "Test Accuracy: 0.9500\n",
      "Epoch 19/50, Loss: 1.4960, Accuracy: 0.95%\n",
      "Test Accuracy: 0.9519\n",
      "Epoch 20/50, Loss: 1.4947, Accuracy: 0.95%\n",
      "Test Accuracy: 0.9593\n",
      "Epoch 21/50, Loss: 1.4920, Accuracy: 0.96%\n",
      "Test Accuracy: 0.9630\n",
      "Epoch 22/50, Loss: 1.4911, Accuracy: 0.96%\n",
      "Test Accuracy: 0.9630\n",
      "Epoch 23/50, Loss: 1.4892, Accuracy: 0.96%\n",
      "Test Accuracy: 0.9648\n",
      "Epoch 24/50, Loss: 1.4876, Accuracy: 0.96%\n",
      "Test Accuracy: 0.9611\n",
      "Epoch 25/50, Loss: 1.4865, Accuracy: 0.96%\n",
      "Test Accuracy: 0.9648\n",
      "Epoch 26/50, Loss: 1.4846, Accuracy: 0.96%\n",
      "Test Accuracy: 0.9630\n",
      "Epoch 27/50, Loss: 1.4853, Accuracy: 0.96%\n",
      "Test Accuracy: 0.9685\n",
      "Epoch 28/50, Loss: 1.4830, Accuracy: 0.97%\n",
      "Test Accuracy: 0.9722\n",
      "Epoch 29/50, Loss: 1.4817, Accuracy: 0.97%\n",
      "Test Accuracy: 0.9704\n",
      "Epoch 30/50, Loss: 1.4811, Accuracy: 0.97%\n",
      "Test Accuracy: 0.9685\n",
      "Epoch 31/50, Loss: 1.4797, Accuracy: 0.97%\n",
      "Test Accuracy: 0.9722\n",
      "Epoch 32/50, Loss: 1.4791, Accuracy: 0.97%\n",
      "Test Accuracy: 0.9722\n",
      "Epoch 33/50, Loss: 1.4784, Accuracy: 0.97%\n",
      "Test Accuracy: 0.9667\n",
      "Epoch 34/50, Loss: 1.4780, Accuracy: 0.97%\n",
      "Test Accuracy: 0.9741\n",
      "Epoch 35/50, Loss: 1.4759, Accuracy: 0.97%\n",
      "Test Accuracy: 0.9741\n",
      "Epoch 36/50, Loss: 1.4755, Accuracy: 0.97%\n",
      "Test Accuracy: 0.9759\n",
      "Epoch 37/50, Loss: 1.4761, Accuracy: 0.98%\n",
      "Test Accuracy: 0.9741\n",
      "Epoch 38/50, Loss: 1.4747, Accuracy: 0.97%\n",
      "Test Accuracy: 0.9704\n",
      "Epoch 39/50, Loss: 1.4743, Accuracy: 0.97%\n",
      "Test Accuracy: 0.9778\n",
      "Epoch 40/50, Loss: 1.4745, Accuracy: 0.98%\n",
      "Test Accuracy: 0.9778\n",
      "Epoch 41/50, Loss: 1.4735, Accuracy: 0.98%\n",
      "Test Accuracy: 0.9796\n",
      "Epoch 42/50, Loss: 1.4726, Accuracy: 0.98%\n",
      "Test Accuracy: 0.9741\n",
      "Epoch 43/50, Loss: 1.4730, Accuracy: 0.97%\n",
      "Test Accuracy: 0.9741\n",
      "Epoch 44/50, Loss: 1.4744, Accuracy: 0.97%\n",
      "Test Accuracy: 0.9759\n",
      "Epoch 45/50, Loss: 1.4723, Accuracy: 0.98%\n",
      "Test Accuracy: 0.9741\n",
      "Epoch 46/50, Loss: 1.4720, Accuracy: 0.97%\n",
      "Test Accuracy: 0.9741\n",
      "Epoch 47/50, Loss: 1.4712, Accuracy: 0.97%\n",
      "Test Accuracy: 0.9778\n",
      "Epoch 48/50, Loss: 1.4709, Accuracy: 0.98%\n",
      "Test Accuracy: 0.9759\n",
      "Epoch 49/50, Loss: 1.4707, Accuracy: 0.98%\n",
      "Test Accuracy: 0.9778\n",
      "Epoch 50/50, Loss: 1.4705, Accuracy: 0.98%\n"
     ]
    }
   ],
   "source": [
    "train_losses = []\n",
    "test_accuracies = []\n",
    "num_epochs = 50\n",
    "\n",
    "for epoch in range(num_epochs):\n",
    "    model.train()\n",
    "    running_loss = 0.0\n",
    "    for batch_x, batch_y in train_loader:\n",
    "        # 입력 데이터 shape 변환: (batch, 64) -> (batch, 1, 8, 8)\n",
    "        batch_x = batch_x.float()\n",
    "        outputs = model(batch_x)\n",
    "        loss = criterion(outputs, batch_y)\n",
    "        \n",
    "        optimizer.zero_grad()\n",
    "        loss.backward()\n",
    "        optimizer.step()\n",
    "        running_loss += loss.item()\n",
    "    train_losses.append(running_loss / len(train_loader))\n",
    "    # 테스트 정확도 계산\n",
    "    model.eval()\n",
    "    with torch.no_grad():\n",
    "        test_x = X_test_tensor.float()\n",
    "        test_outputs = model(test_x)\n",
    "        _, predicted = torch.max(test_outputs.data, 1)\n",
    "        correct = (predicted == y_test).sum().item()\n",
    "        accuracy = correct / len(y_test)\n",
    "        test_accuracies.append(accuracy)\n",
    "        print(f\"Test Accuracy: {accuracy:.4f}\")\n",
    "    print(f\"Epoch {epoch + 1}/{num_epochs}, Loss: {train_losses[-1]:.4f}, Accuracy: {accuracy:.2f}%\")\n",
    "\n"
   ]
  },
  {
   "cell_type": "code",
   "execution_count": 11,
   "id": "f33b94f4",
   "metadata": {},
   "outputs": [
    {
     "name": "stdout",
     "output_type": "stream",
     "text": [
      "Confusion Matrix:\n",
      "[[123   0   0   0   1   0   1   0   0   0]\n",
      " [  0 132   0   0   0   0   0   0   0   0]\n",
      " [  0   0 130   0   0   0   0   0   0   0]\n",
      " [  0   0   0 129   0   0   0   0   0   0]\n",
      " [  0   1   0   0 118   0   0   1   0   1]\n",
      " [  0   0   0   0   0 114   0   0   0   2]\n",
      " [  0   0   0   0   0   0 128   0   0   0]\n",
      " [  0   0   0   0   0   0   0 124   0   0]\n",
      " [  0   4   0   0   0   0   0   0 127   0]\n",
      " [  0   0   0   1   0   1   0   0   0 119]]\n",
      "F1 Score: 0.99\n",
      "Precision: 0.99\n",
      "Recall: 0.99\n",
      "Specificity: 1.00\n"
     ]
    }
   ],
   "source": [
    "import torch\n",
    "import numpy as np\n",
    "from sklearn.metrics import confusion_matrix, f1_score, precision_score, recall_score\n",
    "\n",
    "# 모델 평가 모드로 변경\n",
    "model.eval()\n",
    "\n",
    "# GPU 사용 여부 확인\n",
    "device = torch.device(\"cuda\" if torch.cuda.is_available() else \"cpu\")\n",
    "model.to(device)  # 모델을 GPU로 이동\n",
    "\n",
    "# 결과 저장\n",
    "all_labels = []\n",
    "all_predictions = []\n",
    "\n",
    "# 평가 데이터 처리\n",
    "with torch.no_grad():\n",
    "    for batch_x, batch_y in train_loader:\n",
    "        batch_x = batch_x.float().to(device)  # GPU로 이동\n",
    "        outputs = model(batch_x)\n",
    "        _, predicted = torch.max(outputs.data, 1)  # 수정: torch.max의 반환값 언패킹\n",
    "        \n",
    "        all_labels.extend(batch_y.cpu().numpy())  # CPU로 이동 후 numpy로 변환\n",
    "        all_predictions.extend(predicted.cpu().numpy())  # CPU로 이동 후 numpy로 변환\n",
    "\n",
    "all_labels = np.array(all_labels)\n",
    "all_predictions = np.array(all_predictions)\n",
    "\n",
    "# Calculate metrics\n",
    "conf_matrix = confusion_matrix(all_labels, all_predictions)\n",
    "f1 = f1_score(all_labels, all_predictions, average='weighted')\n",
    "precision = precision_score(all_labels, all_predictions, average='weighted')\n",
    "recall = recall_score(all_labels, all_predictions, average='weighted')\n",
    "\n",
    "# Calculate specificity for each class\n",
    "specificity = []\n",
    "for i in range(conf_matrix.shape[0]):\n",
    "    tn = conf_matrix.sum() - (conf_matrix[i, :].sum() + conf_matrix[:, i].sum() - conf_matrix[i, i])\n",
    "    fp = conf_matrix[:, i].sum() - conf_matrix[i, i]\n",
    "    specificity.append(tn / (tn + fp))\n",
    "\n",
    "# 결과 출력\n",
    "print(f'Confusion Matrix:\\n{conf_matrix}')\n",
    "print(f'F1 Score: {f1:.2f}')\n",
    "print(f'Precision: {precision:.2f}')\n",
    "print(f'Recall: {recall:.2f}')\n",
    "print(f'Specificity: {np.mean(specificity):.2f}')"
   ]
  },
  {
   "cell_type": "code",
   "execution_count": 12,
   "id": "cf619f74",
   "metadata": {},
   "outputs": [
    {
     "data": {
      "image/png": "[encoded data removed]",
      "text/plain": [
       "<Figure size 1200x500 with 2 Axes>"
      ]
     },
     "metadata": {},
     "output_type": "display_data"
    }
   ],
   "source": [
    "plt.figure(figsize=(12, 5))\n",
    "\n",
    "# Plot loss\n",
    "plt.subplot(1, 2, 1)\n",
    "plt.plot(train_losses, label='Training Loss')\n",
    "plt.xlabel('Epoch')\n",
    "plt.ylabel('Loss')\n",
    "plt.title('Training Loss Over Epochs')\n",
    "plt.legend()\n",
    "\n",
    "# Plot accuracy\n",
    "plt.subplot(1, 2, 2)\n",
    "plt.plot(test_accuracies, label='Test Accuracy')\n",
    "plt.xlabel('Epoch')\n",
    "plt.ylabel('Accuracy (%)')\n",
    "plt.title('Test Accuracy Over Epochs')\n",
    "plt.legend()\n",
    "\n",
    "plt.show()"
   ]
  }
 ],
 "metadata": {
  "kernelspec": {
   "display_name": "base",
   "language": "python",
   "name": "python3"
  },
  "language_info": {
   "codemirror_mode": {
    "name": "ipython",
    "version": 3
   },
   "file_extension": ".py",
   "mimetype": "text/x-python",
   "name": "python",
   "nbconvert_exporter": "python",
   "pygments_lexer": "ipython3",
   "version": "3.12.7"
  }
 },
 "nbformat": 4,
 "nbformat_minor": 5
}
